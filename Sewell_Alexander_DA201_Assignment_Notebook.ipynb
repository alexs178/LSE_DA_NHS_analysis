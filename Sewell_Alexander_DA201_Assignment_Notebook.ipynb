{
 "cells": [
  {
   "cell_type": "code",
   "execution_count": 45,
   "id": "7bc5ef6c",
   "metadata": {},
   "outputs": [],
   "source": [
    "# Import the Pandas and NumPy libraries using import function and aliases.\n",
    "import numpy as np\n",
    "import pandas as pd"
   ]
  },
  {
   "cell_type": "code",
   "execution_count": 3,
   "id": "b6298866",
   "metadata": {},
   "outputs": [
    {
     "data": {
      "text/html": [
       "<div>\n",
       "<style scoped>\n",
       "    .dataframe tbody tr th:only-of-type {\n",
       "        vertical-align: middle;\n",
       "    }\n",
       "\n",
       "    .dataframe tbody tr th {\n",
       "        vertical-align: top;\n",
       "    }\n",
       "\n",
       "    .dataframe thead th {\n",
       "        text-align: right;\n",
       "    }\n",
       "</style>\n",
       "<table border=\"1\" class=\"dataframe\">\n",
       "  <thead>\n",
       "    <tr style=\"text-align: right;\">\n",
       "      <th></th>\n",
       "      <th>sub_icb_location_code</th>\n",
       "      <th>sub_icb_location_ons_code</th>\n",
       "      <th>sub_icb_location_name</th>\n",
       "      <th>icb_ons_code</th>\n",
       "      <th>region_ons_code</th>\n",
       "      <th>appointment_date</th>\n",
       "      <th>actual_duration</th>\n",
       "      <th>count_of_appointments</th>\n",
       "    </tr>\n",
       "  </thead>\n",
       "  <tbody>\n",
       "    <tr>\n",
       "      <th>0</th>\n",
       "      <td>00L</td>\n",
       "      <td>E38000130</td>\n",
       "      <td>NHS North East and North Cumbria ICB - 00L</td>\n",
       "      <td>E54000050</td>\n",
       "      <td>E40000012</td>\n",
       "      <td>01-Dec-21</td>\n",
       "      <td>31-60 Minutes</td>\n",
       "      <td>364</td>\n",
       "    </tr>\n",
       "    <tr>\n",
       "      <th>1</th>\n",
       "      <td>00L</td>\n",
       "      <td>E38000130</td>\n",
       "      <td>NHS North East and North Cumbria ICB - 00L</td>\n",
       "      <td>E54000050</td>\n",
       "      <td>E40000012</td>\n",
       "      <td>01-Dec-21</td>\n",
       "      <td>21-30 Minutes</td>\n",
       "      <td>619</td>\n",
       "    </tr>\n",
       "    <tr>\n",
       "      <th>2</th>\n",
       "      <td>00L</td>\n",
       "      <td>E38000130</td>\n",
       "      <td>NHS North East and North Cumbria ICB - 00L</td>\n",
       "      <td>E54000050</td>\n",
       "      <td>E40000012</td>\n",
       "      <td>01-Dec-21</td>\n",
       "      <td>6-10 Minutes</td>\n",
       "      <td>1698</td>\n",
       "    </tr>\n",
       "    <tr>\n",
       "      <th>3</th>\n",
       "      <td>00L</td>\n",
       "      <td>E38000130</td>\n",
       "      <td>NHS North East and North Cumbria ICB - 00L</td>\n",
       "      <td>E54000050</td>\n",
       "      <td>E40000012</td>\n",
       "      <td>01-Dec-21</td>\n",
       "      <td>Unknown / Data Quality</td>\n",
       "      <td>1277</td>\n",
       "    </tr>\n",
       "    <tr>\n",
       "      <th>4</th>\n",
       "      <td>00L</td>\n",
       "      <td>E38000130</td>\n",
       "      <td>NHS North East and North Cumbria ICB - 00L</td>\n",
       "      <td>E54000050</td>\n",
       "      <td>E40000012</td>\n",
       "      <td>01-Dec-21</td>\n",
       "      <td>16-20 Minutes</td>\n",
       "      <td>730</td>\n",
       "    </tr>\n",
       "  </tbody>\n",
       "</table>\n",
       "</div>"
      ],
      "text/plain": [
       "  sub_icb_location_code sub_icb_location_ons_code  \\\n",
       "0                   00L                 E38000130   \n",
       "1                   00L                 E38000130   \n",
       "2                   00L                 E38000130   \n",
       "3                   00L                 E38000130   \n",
       "4                   00L                 E38000130   \n",
       "\n",
       "                        sub_icb_location_name icb_ons_code region_ons_code  \\\n",
       "0  NHS North East and North Cumbria ICB - 00L    E54000050       E40000012   \n",
       "1  NHS North East and North Cumbria ICB - 00L    E54000050       E40000012   \n",
       "2  NHS North East and North Cumbria ICB - 00L    E54000050       E40000012   \n",
       "3  NHS North East and North Cumbria ICB - 00L    E54000050       E40000012   \n",
       "4  NHS North East and North Cumbria ICB - 00L    E54000050       E40000012   \n",
       "\n",
       "  appointment_date         actual_duration  count_of_appointments  \n",
       "0        01-Dec-21           31-60 Minutes                    364  \n",
       "1        01-Dec-21           21-30 Minutes                    619  \n",
       "2        01-Dec-21            6-10 Minutes                   1698  \n",
       "3        01-Dec-21  Unknown / Data Quality                   1277  \n",
       "4        01-Dec-21           16-20 Minutes                    730  "
      ]
     },
     "execution_count": 3,
     "metadata": {},
     "output_type": "execute_result"
    }
   ],
   "source": [
    "# Import the Actual Duration data into a DataFrame using the read_csv() function.\n",
    "ad = pd.read_csv('actual_duration.csv')\n",
    "# Use head() function to view the first 5 rows of the Actual Duration DataFrame to check data was imported correctly.\n",
    "ad.head()"
   ]
  },
  {
   "cell_type": "code",
   "execution_count": 4,
   "id": "3d7500b2",
   "metadata": {},
   "outputs": [
    {
     "data": {
      "text/html": [
       "<div>\n",
       "<style scoped>\n",
       "    .dataframe tbody tr th:only-of-type {\n",
       "        vertical-align: middle;\n",
       "    }\n",
       "\n",
       "    .dataframe tbody tr th {\n",
       "        vertical-align: top;\n",
       "    }\n",
       "\n",
       "    .dataframe thead th {\n",
       "        text-align: right;\n",
       "    }\n",
       "</style>\n",
       "<table border=\"1\" class=\"dataframe\">\n",
       "  <thead>\n",
       "    <tr style=\"text-align: right;\">\n",
       "      <th></th>\n",
       "      <th>icb_ons_code</th>\n",
       "      <th>appointment_month</th>\n",
       "      <th>appointment_status</th>\n",
       "      <th>hcp_type</th>\n",
       "      <th>appointment_mode</th>\n",
       "      <th>time_between_book_and_appointment</th>\n",
       "      <th>count_of_appointments</th>\n",
       "    </tr>\n",
       "  </thead>\n",
       "  <tbody>\n",
       "    <tr>\n",
       "      <th>0</th>\n",
       "      <td>E54000034</td>\n",
       "      <td>2020-01</td>\n",
       "      <td>Attended</td>\n",
       "      <td>GP</td>\n",
       "      <td>Face-to-Face</td>\n",
       "      <td>1 Day</td>\n",
       "      <td>8107</td>\n",
       "    </tr>\n",
       "    <tr>\n",
       "      <th>1</th>\n",
       "      <td>E54000034</td>\n",
       "      <td>2020-01</td>\n",
       "      <td>Attended</td>\n",
       "      <td>GP</td>\n",
       "      <td>Face-to-Face</td>\n",
       "      <td>15  to 21 Days</td>\n",
       "      <td>6791</td>\n",
       "    </tr>\n",
       "    <tr>\n",
       "      <th>2</th>\n",
       "      <td>E54000034</td>\n",
       "      <td>2020-01</td>\n",
       "      <td>Attended</td>\n",
       "      <td>GP</td>\n",
       "      <td>Face-to-Face</td>\n",
       "      <td>2 to 7 Days</td>\n",
       "      <td>20686</td>\n",
       "    </tr>\n",
       "    <tr>\n",
       "      <th>3</th>\n",
       "      <td>E54000034</td>\n",
       "      <td>2020-01</td>\n",
       "      <td>Attended</td>\n",
       "      <td>GP</td>\n",
       "      <td>Face-to-Face</td>\n",
       "      <td>22  to 28 Days</td>\n",
       "      <td>4268</td>\n",
       "    </tr>\n",
       "    <tr>\n",
       "      <th>4</th>\n",
       "      <td>E54000034</td>\n",
       "      <td>2020-01</td>\n",
       "      <td>Attended</td>\n",
       "      <td>GP</td>\n",
       "      <td>Face-to-Face</td>\n",
       "      <td>8  to 14 Days</td>\n",
       "      <td>11971</td>\n",
       "    </tr>\n",
       "  </tbody>\n",
       "</table>\n",
       "</div>"
      ],
      "text/plain": [
       "  icb_ons_code appointment_month appointment_status hcp_type appointment_mode  \\\n",
       "0    E54000034           2020-01           Attended       GP     Face-to-Face   \n",
       "1    E54000034           2020-01           Attended       GP     Face-to-Face   \n",
       "2    E54000034           2020-01           Attended       GP     Face-to-Face   \n",
       "3    E54000034           2020-01           Attended       GP     Face-to-Face   \n",
       "4    E54000034           2020-01           Attended       GP     Face-to-Face   \n",
       "\n",
       "  time_between_book_and_appointment  count_of_appointments  \n",
       "0                             1 Day                   8107  \n",
       "1                    15  to 21 Days                   6791  \n",
       "2                       2 to 7 Days                  20686  \n",
       "3                    22  to 28 Days                   4268  \n",
       "4                     8  to 14 Days                  11971  "
      ]
     },
     "execution_count": 4,
     "metadata": {},
     "output_type": "execute_result"
    }
   ],
   "source": [
    "# Import the Appointments Regional data into a DataFrame using the read_csv() function.\n",
    "ar = pd.read_csv('appointments_regional.csv')\n",
    "# Use head() function to view the first 5 rows of the Appointments Regional DataFrame to check data was\\\n",
    "# imported correctly.\n",
    "ar.head()"
   ]
  },
  {
   "cell_type": "code",
   "execution_count": 5,
   "id": "983c4d8d",
   "metadata": {},
   "outputs": [
    {
     "data": {
      "text/html": [
       "<div>\n",
       "<style scoped>\n",
       "    .dataframe tbody tr th:only-of-type {\n",
       "        vertical-align: middle;\n",
       "    }\n",
       "\n",
       "    .dataframe tbody tr th {\n",
       "        vertical-align: top;\n",
       "    }\n",
       "\n",
       "    .dataframe thead th {\n",
       "        text-align: right;\n",
       "    }\n",
       "</style>\n",
       "<table border=\"1\" class=\"dataframe\">\n",
       "  <thead>\n",
       "    <tr style=\"text-align: right;\">\n",
       "      <th></th>\n",
       "      <th>appointment_date</th>\n",
       "      <th>icb_ons_code</th>\n",
       "      <th>sub_icb_location_name</th>\n",
       "      <th>service_setting</th>\n",
       "      <th>context_type</th>\n",
       "      <th>national_category</th>\n",
       "      <th>count_of_appointments</th>\n",
       "      <th>appointment_month</th>\n",
       "    </tr>\n",
       "  </thead>\n",
       "  <tbody>\n",
       "    <tr>\n",
       "      <th>0</th>\n",
       "      <td>2021-08-02</td>\n",
       "      <td>E54000050</td>\n",
       "      <td>NHS North East and North Cumbria ICB - 00L</td>\n",
       "      <td>Primary Care Network</td>\n",
       "      <td>Care Related Encounter</td>\n",
       "      <td>Patient contact during Care Home Round</td>\n",
       "      <td>3</td>\n",
       "      <td>2021-08</td>\n",
       "    </tr>\n",
       "    <tr>\n",
       "      <th>1</th>\n",
       "      <td>2021-08-02</td>\n",
       "      <td>E54000050</td>\n",
       "      <td>NHS North East and North Cumbria ICB - 00L</td>\n",
       "      <td>Other</td>\n",
       "      <td>Care Related Encounter</td>\n",
       "      <td>Planned Clinics</td>\n",
       "      <td>7</td>\n",
       "      <td>2021-08</td>\n",
       "    </tr>\n",
       "    <tr>\n",
       "      <th>2</th>\n",
       "      <td>2021-08-02</td>\n",
       "      <td>E54000050</td>\n",
       "      <td>NHS North East and North Cumbria ICB - 00L</td>\n",
       "      <td>General Practice</td>\n",
       "      <td>Care Related Encounter</td>\n",
       "      <td>Home Visit</td>\n",
       "      <td>79</td>\n",
       "      <td>2021-08</td>\n",
       "    </tr>\n",
       "    <tr>\n",
       "      <th>3</th>\n",
       "      <td>2021-08-02</td>\n",
       "      <td>E54000050</td>\n",
       "      <td>NHS North East and North Cumbria ICB - 00L</td>\n",
       "      <td>General Practice</td>\n",
       "      <td>Care Related Encounter</td>\n",
       "      <td>General Consultation Acute</td>\n",
       "      <td>725</td>\n",
       "      <td>2021-08</td>\n",
       "    </tr>\n",
       "    <tr>\n",
       "      <th>4</th>\n",
       "      <td>2021-08-02</td>\n",
       "      <td>E54000050</td>\n",
       "      <td>NHS North East and North Cumbria ICB - 00L</td>\n",
       "      <td>General Practice</td>\n",
       "      <td>Care Related Encounter</td>\n",
       "      <td>Structured Medication Review</td>\n",
       "      <td>2</td>\n",
       "      <td>2021-08</td>\n",
       "    </tr>\n",
       "  </tbody>\n",
       "</table>\n",
       "</div>"
      ],
      "text/plain": [
       "  appointment_date icb_ons_code                       sub_icb_location_name  \\\n",
       "0       2021-08-02    E54000050  NHS North East and North Cumbria ICB - 00L   \n",
       "1       2021-08-02    E54000050  NHS North East and North Cumbria ICB - 00L   \n",
       "2       2021-08-02    E54000050  NHS North East and North Cumbria ICB - 00L   \n",
       "3       2021-08-02    E54000050  NHS North East and North Cumbria ICB - 00L   \n",
       "4       2021-08-02    E54000050  NHS North East and North Cumbria ICB - 00L   \n",
       "\n",
       "        service_setting            context_type  \\\n",
       "0  Primary Care Network  Care Related Encounter   \n",
       "1                 Other  Care Related Encounter   \n",
       "2      General Practice  Care Related Encounter   \n",
       "3      General Practice  Care Related Encounter   \n",
       "4      General Practice  Care Related Encounter   \n",
       "\n",
       "                        national_category  count_of_appointments  \\\n",
       "0  Patient contact during Care Home Round                      3   \n",
       "1                         Planned Clinics                      7   \n",
       "2                              Home Visit                     79   \n",
       "3              General Consultation Acute                    725   \n",
       "4            Structured Medication Review                      2   \n",
       "\n",
       "  appointment_month  \n",
       "0           2021-08  \n",
       "1           2021-08  \n",
       "2           2021-08  \n",
       "3           2021-08  \n",
       "4           2021-08  "
      ]
     },
     "execution_count": 5,
     "metadata": {},
     "output_type": "execute_result"
    }
   ],
   "source": [
    "# Import the National Categories data into a DataFrame using the read_excel() function.\n",
    "nc = pd.read_excel('national_categories.xlsx')\n",
    "# Use head() function to view the first 5 rows of the National Categories DataFrame to check data was imported \\\n",
    "# correctly.\n",
    "nc.head()"
   ]
  },
  {
   "cell_type": "code",
   "execution_count": 8,
   "id": "d12fd344",
   "metadata": {},
   "outputs": [
    {
     "name": "stdout",
     "output_type": "stream",
     "text": [
      "Index(['sub_icb_location_code', 'sub_icb_location_ons_code',\n",
      "       'sub_icb_location_name', 'icb_ons_code', 'region_ons_code',\n",
      "       'appointment_date', 'actual_duration', 'count_of_appointments'],\n",
      "      dtype='object')\n",
      "(137793, 8)\n",
      "sub_icb_location_code        object\n",
      "sub_icb_location_ons_code    object\n",
      "sub_icb_location_name        object\n",
      "icb_ons_code                 object\n",
      "region_ons_code              object\n",
      "appointment_date             object\n",
      "actual_duration              object\n",
      "count_of_appointments         int64\n",
      "dtype: object\n"
     ]
    }
   ],
   "source": [
    "# For the Actual Duration DataFrame:\n",
    "# View the column names using the print() function and columns method.\n",
    "print(ad.columns)\n",
    "# View the number of rows and columns using the print() function and shape method.\n",
    "print(ad.shape)\n",
    "# View the data types of each column using the print() function and dtypes method.\n",
    "print(ad.dtypes)"
   ]
  },
  {
   "cell_type": "code",
   "execution_count": 9,
   "id": "8abc39dc",
   "metadata": {},
   "outputs": [
    {
     "data": {
      "text/plain": [
       "(0, 8)"
      ]
     },
     "execution_count": 9,
     "metadata": {},
     "output_type": "execute_result"
    }
   ],
   "source": [
    "# Create a DataFrame containing all missing values in the Actual Duration DataFrame by using isna() function.\n",
    "# Use any(axis=1) parameter to identify missing values in all columns of DataFrame.\n",
    "ad_na = ad[ad.isna().any(axis=1)]\n",
    "# View how many rows in the Actual Duration DataFrame have missing values by using shape method\n",
    "ad_na.shape"
   ]
  },
  {
   "cell_type": "code",
   "execution_count": null,
   "id": "a3704ef9",
   "metadata": {},
   "outputs": [],
   "source": [
    "# This indicates there are no missing values in the Actual Duration DataFrame."
   ]
  },
  {
   "cell_type": "code",
   "execution_count": 10,
   "id": "66557518",
   "metadata": {},
   "outputs": [
    {
     "name": "stdout",
     "output_type": "stream",
     "text": [
      "Index(['icb_ons_code', 'appointment_month', 'appointment_status', 'hcp_type',\n",
      "       'appointment_mode', 'time_between_book_and_appointment',\n",
      "       'count_of_appointments'],\n",
      "      dtype='object')\n",
      "(596821, 7)\n",
      "icb_ons_code                         object\n",
      "appointment_month                    object\n",
      "appointment_status                   object\n",
      "hcp_type                             object\n",
      "appointment_mode                     object\n",
      "time_between_book_and_appointment    object\n",
      "count_of_appointments                 int64\n",
      "dtype: object\n"
     ]
    }
   ],
   "source": [
    "# For the Appointments Regional DataFrame:\n",
    "# View the column names using the print() function and columns method.\n",
    "print(ar.columns)\n",
    "# View the number of rows and columns using the print() function and shape method.\n",
    "print(ar.shape)\n",
    "# View the data types of each column using the print() function and dtypes method.\n",
    "print(ar.dtypes)"
   ]
  },
  {
   "cell_type": "code",
   "execution_count": 11,
   "id": "4b23777e",
   "metadata": {},
   "outputs": [
    {
     "data": {
      "text/plain": [
       "(0, 7)"
      ]
     },
     "execution_count": 11,
     "metadata": {},
     "output_type": "execute_result"
    }
   ],
   "source": [
    "# Create a DataFrame containing all missing values in the Appointments Regional DataFrame by using isna() function.\n",
    "# Use any(axis=1) parameter to identify missing values in all columns of DataFrame.\n",
    "ar_na=ar[ar.isna().any(axis=1)]\n",
    "# View how many rows in the Appointments Regional DataFrame have missing values by using shape method.\n",
    "ar_na.shape"
   ]
  },
  {
   "cell_type": "code",
   "execution_count": null,
   "id": "38318fc0",
   "metadata": {},
   "outputs": [],
   "source": [
    "# This indicates there are no missing values in the Appointments Regional DataFrame."
   ]
  },
  {
   "cell_type": "code",
   "execution_count": 12,
   "id": "9eb05428",
   "metadata": {},
   "outputs": [
    {
     "name": "stdout",
     "output_type": "stream",
     "text": [
      "Index(['appointment_date', 'icb_ons_code', 'sub_icb_location_name',\n",
      "       'service_setting', 'context_type', 'national_category',\n",
      "       'count_of_appointments', 'appointment_month'],\n",
      "      dtype='object')\n",
      "(817394, 8)\n",
      "appointment_date         datetime64[ns]\n",
      "icb_ons_code                     object\n",
      "sub_icb_location_name            object\n",
      "service_setting                  object\n",
      "context_type                     object\n",
      "national_category                object\n",
      "count_of_appointments             int64\n",
      "appointment_month                object\n",
      "dtype: object\n"
     ]
    }
   ],
   "source": [
    "# For the National Categories DataFrame:\n",
    "# View the column names using the print() function and columns method.\n",
    "print(nc.columns)\n",
    "# View the number of rows and columns using the print() function and shape method.\n",
    "print(nc.shape)\n",
    "# View the data types of each column using the print() function and dtypes method.\n",
    "print(nc.dtypes)"
   ]
  },
  {
   "cell_type": "code",
   "execution_count": 13,
   "id": "b00d1325",
   "metadata": {},
   "outputs": [
    {
     "data": {
      "text/plain": [
       "(0, 8)"
      ]
     },
     "execution_count": 13,
     "metadata": {},
     "output_type": "execute_result"
    }
   ],
   "source": [
    "# Create a DataFrame containing all missing values in the National Categories DataFrame by using isna() function.\n",
    "# Use any(axis=1) parameter to identify missing values in all columns of DataFrame.\n",
    "nc_na=nc[nc.isna().any(axis=1)]\n",
    "# View how many rows in the National Categories DataFrame have missing values by using shape method.\n",
    "nc_na.shape"
   ]
  },
  {
   "cell_type": "code",
   "execution_count": null,
   "id": "8c5800bb",
   "metadata": {},
   "outputs": [],
   "source": [
    "# This indicates there are no missing values in the National Categories DataFrame."
   ]
  },
  {
   "cell_type": "code",
   "execution_count": 14,
   "id": "d6f299a6",
   "metadata": {},
   "outputs": [
    {
     "data": {
      "text/html": [
       "<div>\n",
       "<style scoped>\n",
       "    .dataframe tbody tr th:only-of-type {\n",
       "        vertical-align: middle;\n",
       "    }\n",
       "\n",
       "    .dataframe tbody tr th {\n",
       "        vertical-align: top;\n",
       "    }\n",
       "\n",
       "    .dataframe thead th {\n",
       "        text-align: right;\n",
       "    }\n",
       "</style>\n",
       "<table border=\"1\" class=\"dataframe\">\n",
       "  <thead>\n",
       "    <tr style=\"text-align: right;\">\n",
       "      <th></th>\n",
       "      <th>count_of_appointments</th>\n",
       "    </tr>\n",
       "  </thead>\n",
       "  <tbody>\n",
       "    <tr>\n",
       "      <th>count</th>\n",
       "      <td>137793.000000</td>\n",
       "    </tr>\n",
       "    <tr>\n",
       "      <th>mean</th>\n",
       "      <td>1219.080011</td>\n",
       "    </tr>\n",
       "    <tr>\n",
       "      <th>std</th>\n",
       "      <td>1546.902956</td>\n",
       "    </tr>\n",
       "    <tr>\n",
       "      <th>min</th>\n",
       "      <td>1.000000</td>\n",
       "    </tr>\n",
       "    <tr>\n",
       "      <th>25%</th>\n",
       "      <td>194.000000</td>\n",
       "    </tr>\n",
       "    <tr>\n",
       "      <th>50%</th>\n",
       "      <td>696.000000</td>\n",
       "    </tr>\n",
       "    <tr>\n",
       "      <th>75%</th>\n",
       "      <td>1621.000000</td>\n",
       "    </tr>\n",
       "    <tr>\n",
       "      <th>max</th>\n",
       "      <td>15400.000000</td>\n",
       "    </tr>\n",
       "  </tbody>\n",
       "</table>\n",
       "</div>"
      ],
      "text/plain": [
       "       count_of_appointments\n",
       "count          137793.000000\n",
       "mean             1219.080011\n",
       "std              1546.902956\n",
       "min                 1.000000\n",
       "25%               194.000000\n",
       "50%               696.000000\n",
       "75%              1621.000000\n",
       "max             15400.000000"
      ]
     },
     "execution_count": 14,
     "metadata": {},
     "output_type": "execute_result"
    }
   ],
   "source": [
    "# Calculate descriptive statistics of numerical data in the Actual Duration DataFrame using describe() function.\n",
    "ad.describe()"
   ]
  },
  {
   "cell_type": "code",
   "execution_count": 15,
   "id": "4ea68dc1",
   "metadata": {},
   "outputs": [
    {
     "name": "stdout",
     "output_type": "stream",
     "text": [
      "<class 'pandas.core.frame.DataFrame'>\n",
      "RangeIndex: 137793 entries, 0 to 137792\n",
      "Data columns (total 8 columns):\n",
      " #   Column                     Non-Null Count   Dtype \n",
      "---  ------                     --------------   ----- \n",
      " 0   sub_icb_location_code      137793 non-null  object\n",
      " 1   sub_icb_location_ons_code  137793 non-null  object\n",
      " 2   sub_icb_location_name      137793 non-null  object\n",
      " 3   icb_ons_code               137793 non-null  object\n",
      " 4   region_ons_code            137793 non-null  object\n",
      " 5   appointment_date           137793 non-null  object\n",
      " 6   actual_duration            137793 non-null  object\n",
      " 7   count_of_appointments      137793 non-null  int64 \n",
      "dtypes: int64(1), object(7)\n",
      "memory usage: 8.4+ MB\n"
     ]
    }
   ],
   "source": [
    "# Obtain Metadata for the Actual Duration DataFrame using info() function.\n",
    "ad.info()"
   ]
  },
  {
   "cell_type": "code",
   "execution_count": 16,
   "id": "f647a300",
   "metadata": {},
   "outputs": [
    {
     "data": {
      "text/html": [
       "<div>\n",
       "<style scoped>\n",
       "    .dataframe tbody tr th:only-of-type {\n",
       "        vertical-align: middle;\n",
       "    }\n",
       "\n",
       "    .dataframe tbody tr th {\n",
       "        vertical-align: top;\n",
       "    }\n",
       "\n",
       "    .dataframe thead th {\n",
       "        text-align: right;\n",
       "    }\n",
       "</style>\n",
       "<table border=\"1\" class=\"dataframe\">\n",
       "  <thead>\n",
       "    <tr style=\"text-align: right;\">\n",
       "      <th></th>\n",
       "      <th>count_of_appointments</th>\n",
       "    </tr>\n",
       "  </thead>\n",
       "  <tbody>\n",
       "    <tr>\n",
       "      <th>count</th>\n",
       "      <td>596821.000000</td>\n",
       "    </tr>\n",
       "    <tr>\n",
       "      <th>mean</th>\n",
       "      <td>1244.601857</td>\n",
       "    </tr>\n",
       "    <tr>\n",
       "      <th>std</th>\n",
       "      <td>5856.887042</td>\n",
       "    </tr>\n",
       "    <tr>\n",
       "      <th>min</th>\n",
       "      <td>1.000000</td>\n",
       "    </tr>\n",
       "    <tr>\n",
       "      <th>25%</th>\n",
       "      <td>7.000000</td>\n",
       "    </tr>\n",
       "    <tr>\n",
       "      <th>50%</th>\n",
       "      <td>47.000000</td>\n",
       "    </tr>\n",
       "    <tr>\n",
       "      <th>75%</th>\n",
       "      <td>308.000000</td>\n",
       "    </tr>\n",
       "    <tr>\n",
       "      <th>max</th>\n",
       "      <td>211265.000000</td>\n",
       "    </tr>\n",
       "  </tbody>\n",
       "</table>\n",
       "</div>"
      ],
      "text/plain": [
       "       count_of_appointments\n",
       "count          596821.000000\n",
       "mean             1244.601857\n",
       "std              5856.887042\n",
       "min                 1.000000\n",
       "25%                 7.000000\n",
       "50%                47.000000\n",
       "75%               308.000000\n",
       "max            211265.000000"
      ]
     },
     "execution_count": 16,
     "metadata": {},
     "output_type": "execute_result"
    }
   ],
   "source": [
    "# Calculate descriptive statistics of numerical data in the Appointments Regional DataFrame using describe() function.\n",
    "ar.describe()"
   ]
  },
  {
   "cell_type": "code",
   "execution_count": 17,
   "id": "10214fc1",
   "metadata": {},
   "outputs": [
    {
     "name": "stdout",
     "output_type": "stream",
     "text": [
      "<class 'pandas.core.frame.DataFrame'>\n",
      "RangeIndex: 596821 entries, 0 to 596820\n",
      "Data columns (total 7 columns):\n",
      " #   Column                             Non-Null Count   Dtype \n",
      "---  ------                             --------------   ----- \n",
      " 0   icb_ons_code                       596821 non-null  object\n",
      " 1   appointment_month                  596821 non-null  object\n",
      " 2   appointment_status                 596821 non-null  object\n",
      " 3   hcp_type                           596821 non-null  object\n",
      " 4   appointment_mode                   596821 non-null  object\n",
      " 5   time_between_book_and_appointment  596821 non-null  object\n",
      " 6   count_of_appointments              596821 non-null  int64 \n",
      "dtypes: int64(1), object(6)\n",
      "memory usage: 31.9+ MB\n"
     ]
    }
   ],
   "source": [
    "# Obtain Metadata for the Appointments Regional DataFrame using info() function.\n",
    "ar.info()"
   ]
  },
  {
   "cell_type": "code",
   "execution_count": 18,
   "id": "897b4725",
   "metadata": {},
   "outputs": [
    {
     "data": {
      "text/html": [
       "<div>\n",
       "<style scoped>\n",
       "    .dataframe tbody tr th:only-of-type {\n",
       "        vertical-align: middle;\n",
       "    }\n",
       "\n",
       "    .dataframe tbody tr th {\n",
       "        vertical-align: top;\n",
       "    }\n",
       "\n",
       "    .dataframe thead th {\n",
       "        text-align: right;\n",
       "    }\n",
       "</style>\n",
       "<table border=\"1\" class=\"dataframe\">\n",
       "  <thead>\n",
       "    <tr style=\"text-align: right;\">\n",
       "      <th></th>\n",
       "      <th>count_of_appointments</th>\n",
       "    </tr>\n",
       "  </thead>\n",
       "  <tbody>\n",
       "    <tr>\n",
       "      <th>count</th>\n",
       "      <td>817394.000000</td>\n",
       "    </tr>\n",
       "    <tr>\n",
       "      <th>mean</th>\n",
       "      <td>362.183684</td>\n",
       "    </tr>\n",
       "    <tr>\n",
       "      <th>std</th>\n",
       "      <td>1084.576600</td>\n",
       "    </tr>\n",
       "    <tr>\n",
       "      <th>min</th>\n",
       "      <td>1.000000</td>\n",
       "    </tr>\n",
       "    <tr>\n",
       "      <th>25%</th>\n",
       "      <td>7.000000</td>\n",
       "    </tr>\n",
       "    <tr>\n",
       "      <th>50%</th>\n",
       "      <td>25.000000</td>\n",
       "    </tr>\n",
       "    <tr>\n",
       "      <th>75%</th>\n",
       "      <td>128.000000</td>\n",
       "    </tr>\n",
       "    <tr>\n",
       "      <th>max</th>\n",
       "      <td>16590.000000</td>\n",
       "    </tr>\n",
       "  </tbody>\n",
       "</table>\n",
       "</div>"
      ],
      "text/plain": [
       "       count_of_appointments\n",
       "count          817394.000000\n",
       "mean              362.183684\n",
       "std              1084.576600\n",
       "min                 1.000000\n",
       "25%                 7.000000\n",
       "50%                25.000000\n",
       "75%               128.000000\n",
       "max             16590.000000"
      ]
     },
     "execution_count": 18,
     "metadata": {},
     "output_type": "execute_result"
    }
   ],
   "source": [
    "# Calculate descriptive statistics of numerical data in the National Categories DataFrame using describe() function.\n",
    "nc.describe()"
   ]
  },
  {
   "cell_type": "code",
   "execution_count": 19,
   "id": "df91ca7a",
   "metadata": {},
   "outputs": [
    {
     "name": "stdout",
     "output_type": "stream",
     "text": [
      "<class 'pandas.core.frame.DataFrame'>\n",
      "RangeIndex: 817394 entries, 0 to 817393\n",
      "Data columns (total 8 columns):\n",
      " #   Column                 Non-Null Count   Dtype         \n",
      "---  ------                 --------------   -----         \n",
      " 0   appointment_date       817394 non-null  datetime64[ns]\n",
      " 1   icb_ons_code           817394 non-null  object        \n",
      " 2   sub_icb_location_name  817394 non-null  object        \n",
      " 3   service_setting        817394 non-null  object        \n",
      " 4   context_type           817394 non-null  object        \n",
      " 5   national_category      817394 non-null  object        \n",
      " 6   count_of_appointments  817394 non-null  int64         \n",
      " 7   appointment_month      817394 non-null  object        \n",
      "dtypes: datetime64[ns](1), int64(1), object(6)\n",
      "memory usage: 49.9+ MB\n"
     ]
    }
   ],
   "source": [
    "# Obtain Metadata for the National Categories DataFrame using info() function.\n",
    "nc.info()"
   ]
  },
  {
   "cell_type": "code",
   "execution_count": 34,
   "id": "00ca99c8",
   "metadata": {},
   "outputs": [
    {
     "name": "stdout",
     "output_type": "stream",
     "text": [
      "Count of locations:  106\n"
     ]
    }
   ],
   "source": [
    "# Use unique() function to view list of locations, and len() function to count number of locations.\n",
    "# Assign a variable to this count.\n",
    "cnt_loc = len(nc['sub_icb_location_name'].unique())\n",
    "# Use print() function to return count alongside an appropriate docstring.\n",
    "print(\"Count of locations: \", cnt_loc)"
   ]
  },
  {
   "cell_type": "code",
   "execution_count": 38,
   "id": "8f7e34f9",
   "metadata": {},
   "outputs": [
    {
     "name": "stdout",
     "output_type": "stream",
     "text": [
      "These are the five locations with the most records in the National Categories data set:\n"
     ]
    },
    {
     "data": {
      "text/plain": [
       "NHS North West London ICB - W2U3Z              13007\n",
       "NHS Kent and Medway ICB - 91Q                  12637\n",
       "NHS Devon ICB - 15N                            12526\n",
       "NHS Hampshire and Isle Of Wight ICB - D9Y0V    12171\n",
       "NHS North East London ICB - A3A8R              11837\n",
       "Name: sub_icb_location_name, dtype: int64"
      ]
     },
     "execution_count": 38,
     "metadata": {},
     "output_type": "execute_result"
    }
   ],
   "source": [
    "# Use value_counts() function to generate table that displays number of records per location in descending order.\n",
    "# Assign a variable to this table.\n",
    "locations_most_records = nc['sub_icb_location_name'].value_counts()\n",
    "# Use print() function to generate an appropriate docstring.\n",
    "print(\"These are the five locations with the most records in the National Categories data set:\")\n",
    "# Use head() function to return the five locations with the most records.\n",
    "locations_most_records.head()"
   ]
  },
  {
   "cell_type": "code",
   "execution_count": 48,
   "id": "9a55bf25",
   "metadata": {
    "scrolled": true
   },
   "outputs": [
    {
     "name": "stdout",
     "output_type": "stream",
     "text": [
      "Count of Service Settings:  5\n"
     ]
    }
   ],
   "source": [
    "# Use unique() function to view list of service settings, and len() function to count number of service settings.\n",
    "# Assign a variable to this count.\n",
    "cnt_serv_setting = len(nc['service_setting'].unique())\n",
    "# Use print() function to return count alongside an appropriate docstring.\n",
    "print(\"Count of Service Settings: \", cnt_serv_setting)"
   ]
  },
  {
   "cell_type": "code",
   "execution_count": 51,
   "id": "8856e70c",
   "metadata": {},
   "outputs": [
    {
     "data": {
      "text/plain": [
       "array(['Primary Care Network', 'Other', 'General Practice', 'Unmapped',\n",
       "       'Extended Access Provision'], dtype=object)"
      ]
     },
     "execution_count": 51,
     "metadata": {},
     "output_type": "execute_result"
    }
   ],
   "source": [
    "# Use unique() function to view list of service settings.\n",
    "nc['service_setting'].unique()"
   ]
  },
  {
   "cell_type": "code",
   "execution_count": null,
   "id": "b22809d1",
   "metadata": {},
   "outputs": [],
   "source": [
    "# The 5 service settings includes category for unmapped values."
   ]
  },
  {
   "cell_type": "code",
   "execution_count": 49,
   "id": "f7db97f4",
   "metadata": {},
   "outputs": [
    {
     "name": "stdout",
     "output_type": "stream",
     "text": [
      "Count of Context Types:  3\n"
     ]
    }
   ],
   "source": [
    "# Use unique() function to view list of context types, and len() function to count number of context types.\n",
    "# Assign a variable to this count.\n",
    "cnt_context_type = len(nc['context_type'].unique())\n",
    "# Use print() function to return count alongside an appropriate docstring.\n",
    "print(\"Count of Context Types: \", cnt_context_type)"
   ]
  },
  {
   "cell_type": "code",
   "execution_count": 52,
   "id": "852d9f04",
   "metadata": {},
   "outputs": [
    {
     "data": {
      "text/plain": [
       "array(['Care Related Encounter', 'Unmapped', 'Inconsistent Mapping'],\n",
       "      dtype=object)"
      ]
     },
     "execution_count": 52,
     "metadata": {},
     "output_type": "execute_result"
    }
   ],
   "source": [
    "# Use unique() function to view list of context types.\n",
    "nc['context_type'].unique()"
   ]
  },
  {
   "cell_type": "code",
   "execution_count": null,
   "id": "66677a7b",
   "metadata": {},
   "outputs": [],
   "source": [
    "# The 3 context types include categories for unmapped and inconsistently mapped values."
   ]
  },
  {
   "cell_type": "code",
   "execution_count": 50,
   "id": "cfd6e485",
   "metadata": {},
   "outputs": [
    {
     "name": "stdout",
     "output_type": "stream",
     "text": [
      "Count of National Categories:  18\n"
     ]
    }
   ],
   "source": [
    "# Use unique() function to view list of national categories, and len() function to count number of \\ \n",
    "# national categories. Assign a variable to this count.\n",
    "cnt_nat_cat = len(nc['national_category'].unique())\n",
    "# Use print() function to return count alongside an appropriate docstring.\n",
    "print(\"Count of National Categories: \", cnt_nat_cat)"
   ]
  },
  {
   "cell_type": "code",
   "execution_count": 53,
   "id": "ecb6b522",
   "metadata": {},
   "outputs": [
    {
     "data": {
      "text/plain": [
       "array(['Patient contact during Care Home Round', 'Planned Clinics',\n",
       "       'Home Visit', 'General Consultation Acute',\n",
       "       'Structured Medication Review', 'Care Home Visit', 'Unmapped',\n",
       "       'Clinical Triage', 'Planned Clinical Procedure',\n",
       "       'Inconsistent Mapping',\n",
       "       'Care Home Needs Assessment & Personalised Care and Support Planning',\n",
       "       'General Consultation Routine',\n",
       "       'Service provided by organisation external to the practice',\n",
       "       'Unplanned Clinical Activity', 'Social Prescribing Service',\n",
       "       'Non-contractual chargeable work',\n",
       "       'Group Consultation and Group Education', 'Walk-in'], dtype=object)"
      ]
     },
     "execution_count": 53,
     "metadata": {},
     "output_type": "execute_result"
    }
   ],
   "source": [
    "# Use unique() function to view list of national categories.\n",
    "nc['national_category'].unique()"
   ]
  },
  {
   "cell_type": "code",
   "execution_count": null,
   "id": "23432a76",
   "metadata": {},
   "outputs": [],
   "source": [
    "# The 18 national categories include categories for unmapped and inconsistently mapped values."
   ]
  },
  {
   "cell_type": "code",
   "execution_count": 54,
   "id": "f279f052",
   "metadata": {},
   "outputs": [
    {
     "name": "stdout",
     "output_type": "stream",
     "text": [
      "Count of Appointment Statuses:  3\n"
     ]
    }
   ],
   "source": [
    "# Use unique() function to view list of appointment statuses, and len() function to count number of \\\n",
    "# appointment statuses. Assign a variable to this count.\n",
    "cnt_app_status = len(ar['appointment_status'].unique())\n",
    "# Use print() function to return count alongside an appropriate docstring.\n",
    "print(\"Count of Appointment Statuses: \", cnt_app_status)"
   ]
  },
  {
   "cell_type": "code",
   "execution_count": 56,
   "id": "d14bc142",
   "metadata": {},
   "outputs": [
    {
     "data": {
      "text/plain": [
       "array(['Attended', 'DNA', 'Unknown'], dtype=object)"
      ]
     },
     "execution_count": 56,
     "metadata": {},
     "output_type": "execute_result"
    }
   ],
   "source": [
    "# Use unique() function to view list of appointment statuses.\n",
    "ar['appointment_status'].unique()"
   ]
  },
  {
   "cell_type": "code",
   "execution_count": null,
   "id": "04634ba7",
   "metadata": {},
   "outputs": [],
   "source": [
    "# The 3 appointment statuses includes category for unknown values."
   ]
  },
  {
   "cell_type": "code",
   "execution_count": null,
   "id": "2a7db9c5",
   "metadata": {},
   "outputs": [],
   "source": []
  }
 ],
 "metadata": {
  "kernelspec": {
   "display_name": "Python 3 (ipykernel)",
   "language": "python",
   "name": "python3"
  },
  "language_info": {
   "codemirror_mode": {
    "name": "ipython",
    "version": 3
   },
   "file_extension": ".py",
   "mimetype": "text/x-python",
   "name": "python",
   "nbconvert_exporter": "python",
   "pygments_lexer": "ipython3",
   "version": "3.9.12"
  }
 },
 "nbformat": 4,
 "nbformat_minor": 5
}
